{
 "cells": [
  {
   "cell_type": "code",
   "execution_count": 1,
   "metadata": {
    "_cell_guid": "b1076dfc-b9ad-4769-8c92-a6c4dae69d19",
    "_uuid": "8f2839f25d086af736a60e9eeb907d3b93b6e0e5"
   },
   "outputs": [
    {
     "name": "stderr",
     "output_type": "stream",
     "text": [
      "Using TensorFlow backend.\n"
     ]
    },
    {
     "name": "stdout",
     "output_type": "stream",
     "text": [
      "/kaggle/input/Kannada-MNIST/test.csv\n",
      "/kaggle/input/Kannada-MNIST/train.csv\n",
      "/kaggle/input/Kannada-MNIST/sample_submission.csv\n",
      "/kaggle/input/Kannada-MNIST/Dig-MNIST.csv\n"
     ]
    }
   ],
   "source": [
    "# This Python 3 environment comes with many helpful analytics libraries installed\n",
    "# It is defined by the kaggle/python docker image: https://github.com/kaggle/docker-python\n",
    "# For example, here's several helpful packages to load in \n",
    "\n",
    "from __future__ import print_function\n",
    "import keras\n",
    "from keras.datasets import mnist\n",
    "from keras import backend as K\n",
    "import pandas as pd\n",
    "import numpy as np\n",
    "from sklearn.preprocessing import StandardScaler\n",
    "from sklearn.model_selection import train_test_split\n",
    "batch_size = 500\n",
    "num_classes = 10\n",
    "epochs = 40\n",
    "\n",
    "# input image dimensions\n",
    "img_rows, img_cols = 28, 28\n",
    "# Input data files are available in the \"../input/\" directory.\n",
    "# For example, running this (by clicking run or pressing Shift+Enter) will list all files under the input directory\n",
    "\n",
    "\n",
    "# Any results you write to the current directory are saved as output."
   ]
  },
  {
   "cell_type": "code",
   "execution_count": 2,
   "metadata": {
    "_cell_guid": "79c7e3d0-c299-4dcb-8224-4455121ee9b0",
    "_uuid": "d629ff2d2480ee46fbb7e2d37f6b5fab8052498a"
   },
   "outputs": [],
   "source": [
    "test_df = pd.read_csv('/kaggle/input/Kannada-MNIST/test.csv')\n",
    "train_df = pd.read_csv('/kaggle/input/Kannada-MNIST/train.csv')"
   ]
  },
  {
   "cell_type": "code",
   "execution_count": 3,
   "metadata": {},
   "outputs": [
    {
     "name": "stdout",
     "output_type": "stream",
     "text": [
      "(60000,)\n",
      "(60000, 784)\n"
     ]
    }
   ],
   "source": [
    "Y_train_df = train_df['label']\n",
    "#Y_train_df = pd.get_dummies(Y_train_df).values\n",
    "#Y_train_df = Y_train_df.values.reshape(-1, 1)\n",
    "#Y_train_df = standard_scaler.fit_transform(Y_train_df)\n",
    "#Y_train_df = keras.utils.np_utils.to_categorical(Y_train_df)\n",
    "#Y_train_df = Y_train_df.reshape(-1, 10, 1)\n",
    "print(Y_train_df.shape)\n",
    "X_train_df = train_df.drop(columns=\"label\")\n",
    "#X_train_df = standard_scaler.fit_transform(X_train_df)\n",
    "#X_train_df = keras.utils.np_utils.to_categorical(X_train_df)\n",
    "print(X_train_df.shape)"
   ]
  },
  {
   "cell_type": "code",
   "execution_count": 4,
   "metadata": {},
   "outputs": [
    {
     "name": "stdout",
     "output_type": "stream",
     "text": [
      "(5000, 785)\n"
     ]
    }
   ],
   "source": [
    "X_test_df = test_df\n",
    "#X_train_df = standard_scaler.fit_transform(X_train_df)\n",
    "#X_train_df = keras.utils.np_utils.to_categorical(X_train_df)\n",
    "print(X_test_df.shape)"
   ]
  },
  {
   "cell_type": "code",
   "execution_count": 5,
   "metadata": {},
   "outputs": [],
   "source": [
    "np.random.seed(7)\n",
    "# split into 67% for train and 33% for test\n",
    "X_train, X_valid, y_train, y_valid = train_test_split(X_train_df, Y_train_df, test_size=0.15, random_state=7)"
   ]
  },
  {
   "cell_type": "code",
   "execution_count": 6,
   "metadata": {},
   "outputs": [
    {
     "data": {
      "text/plain": [
       "0          0\n",
       "1          1\n",
       "2          2\n",
       "3          3\n",
       "4          4\n",
       "        ... \n",
       "4995    4995\n",
       "4996    4996\n",
       "4997    4997\n",
       "4998    4998\n",
       "4999    4999\n",
       "Name: id, Length: 5000, dtype: int64"
      ]
     },
     "execution_count": 6,
     "metadata": {},
     "output_type": "execute_result"
    }
   ],
   "source": [
    "X_test = test_df.drop('id', axis = 1)\n",
    "# X_test = standard_scaler.fit_transform(X_test)\n",
    "y_test = test_df['id']\n",
    "# y_test = keras.utils.np_utils.to_categorical(y_test)\n",
    "y_test"
   ]
  },
  {
   "cell_type": "code",
   "execution_count": 7,
   "metadata": {},
   "outputs": [],
   "source": [
    "x_train = X_train.values\n",
    "x_valid = X_valid.values\n",
    "y_train = y_train.values\n",
    "y_valid = y_valid.values\n",
    "x_test = X_test.values"
   ]
  },
  {
   "cell_type": "code",
   "execution_count": 8,
   "metadata": {},
   "outputs": [],
   "source": [
    "if K.image_data_format() == 'channels_first':\n",
    "    x_train = x_train.reshape(x_train.shape[0], 1, img_rows, img_cols)\n",
    "    x_valid = x_valid.reshape(x_valid.shape[0], 1, img_rows, img_cols)\n",
    "    x_test = x_test.reshape(x_test.shape[0], 1, img_rows, img_cols)\n",
    "    input_shape = (1, img_rows, img_cols)\n",
    "else:\n",
    "    x_train = x_train.reshape(x_train.shape[0], img_rows, img_cols, 1)\n",
    "    x_valid = x_valid.reshape(x_valid.shape[0], img_rows, img_cols, 1)\n",
    "    x_test = x_test.reshape(x_test.shape[0], img_rows, img_cols, 1)\n",
    "    input_shape = (img_rows, img_cols, 1)\n"
   ]
  },
  {
   "cell_type": "code",
   "execution_count": 9,
   "metadata": {},
   "outputs": [
    {
     "name": "stdout",
     "output_type": "stream",
     "text": [
      "x_train shape: (51000, 28, 28, 1)\n",
      "51000 train samples\n",
      "9000 test samples\n"
     ]
    }
   ],
   "source": [
    "x_train = x_train.astype('float32')\n",
    "x_valid = x_valid.astype('float32')\n",
    "x_test = x_test.astype('float32')\n",
    "x_train /= 255\n",
    "x_valid /= 255\n",
    "x_test /= 255\n",
    "print('x_train shape:', x_train.shape)\n",
    "print(x_train.shape[0], 'train samples')\n",
    "print(x_valid.shape[0], 'test samples')"
   ]
  },
  {
   "cell_type": "code",
   "execution_count": 10,
   "metadata": {},
   "outputs": [],
   "source": [
    "# convert class vectors to binary class matrices\n",
    "y_train = keras.utils.to_categorical(y_train, num_classes)\n",
    "y_valid = keras.utils.to_categorical(y_valid, num_classes)"
   ]
  },
  {
   "cell_type": "code",
   "execution_count": 11,
   "metadata": {},
   "outputs": [],
   "source": [
    "def get_model(num_classes, input_shape):\n",
    "    model = keras.models.Sequential()\n",
    "    model.add(keras.layers.Conv2D(300, kernel_size=(3, 3),\n",
    "                     activation='relu',\n",
    "                     input_shape=input_shape))\n",
    "    model.add(keras.layers.BatchNormalization())\n",
    "    model.add(keras.layers.Conv2D(500, (3, 3), activation='relu'))\n",
    "    model.add(keras.layers.MaxPooling2D(pool_size=(2, 2)))\n",
    "    model.add(keras.layers.Dropout(0.25))\n",
    "    model.add(keras.layers.Flatten())\n",
    "    model.add(keras.layers.Dense(256, activation='relu'))\n",
    "    model.add(keras.layers.Dropout(0.35))\n",
    "    model.add(keras.layers.Dense(num_classes, activation='softmax'))\n",
    "    model.compile(loss=keras.losses.categorical_crossentropy,\n",
    "              optimizer=keras.optimizers.Adadelta(),\n",
    "              metrics=['accuracy'])\n",
    "    return model"
   ]
  },
  {
   "cell_type": "code",
   "execution_count": 12,
   "metadata": {},
   "outputs": [],
   "source": [
    "model = get_model(num_classes, input_shape)"
   ]
  },
  {
   "cell_type": "code",
   "execution_count": 13,
   "metadata": {},
   "outputs": [
    {
     "name": "stdout",
     "output_type": "stream",
     "text": [
      "Train on 51000 samples, validate on 9000 samples\n",
      "Epoch 1/40\n",
      "51000/51000 [==============================] - 29s 576us/step - loss: 1.3304 - accuracy: 0.8936 - val_loss: 2.1336 - val_accuracy: 0.9414\n",
      "Epoch 2/40\n",
      "51000/51000 [==============================] - 24s 469us/step - loss: 0.0525 - accuracy: 0.9843 - val_loss: 1.8891 - val_accuracy: 0.9848\n",
      "Epoch 3/40\n",
      "51000/51000 [==============================] - 24s 469us/step - loss: 0.0320 - accuracy: 0.9903 - val_loss: 1.2969 - val_accuracy: 0.9877\n",
      "Epoch 4/40\n",
      "51000/51000 [==============================] - 24s 470us/step - loss: 0.0224 - accuracy: 0.9932 - val_loss: 0.3909 - val_accuracy: 0.9928\n",
      "Epoch 5/40\n",
      "51000/51000 [==============================] - 24s 469us/step - loss: 0.0163 - accuracy: 0.9948 - val_loss: 0.0712 - val_accuracy: 0.9936\n",
      "Epoch 6/40\n",
      "51000/51000 [==============================] - 24s 470us/step - loss: 0.0122 - accuracy: 0.9963 - val_loss: 0.0214 - val_accuracy: 0.9943\n",
      "Epoch 7/40\n",
      "51000/51000 [==============================] - 24s 469us/step - loss: 0.0111 - accuracy: 0.9966 - val_loss: 0.0195 - val_accuracy: 0.9947\n",
      "Epoch 8/40\n",
      "51000/51000 [==============================] - 24s 470us/step - loss: 0.0076 - accuracy: 0.9975 - val_loss: 0.0196 - val_accuracy: 0.9943\n",
      "Epoch 9/40\n",
      "51000/51000 [==============================] - 24s 469us/step - loss: 0.0059 - accuracy: 0.9981 - val_loss: 0.0237 - val_accuracy: 0.9947\n",
      "Epoch 10/40\n",
      "51000/51000 [==============================] - 24s 469us/step - loss: 0.0060 - accuracy: 0.9980 - val_loss: 0.0245 - val_accuracy: 0.9948\n",
      "Epoch 11/40\n",
      "51000/51000 [==============================] - 24s 470us/step - loss: 0.0049 - accuracy: 0.9982 - val_loss: 0.0238 - val_accuracy: 0.9942\n",
      "Epoch 12/40\n",
      "51000/51000 [==============================] - 24s 469us/step - loss: 0.0046 - accuracy: 0.9986 - val_loss: 0.0257 - val_accuracy: 0.9948\n",
      "Epoch 13/40\n",
      "51000/51000 [==============================] - 24s 470us/step - loss: 0.0036 - accuracy: 0.9986 - val_loss: 0.0244 - val_accuracy: 0.9949\n",
      "Epoch 14/40\n",
      "51000/51000 [==============================] - 24s 470us/step - loss: 0.0038 - accuracy: 0.9987 - val_loss: 0.0231 - val_accuracy: 0.9953\n",
      "Epoch 15/40\n",
      "51000/51000 [==============================] - 24s 470us/step - loss: 0.0022 - accuracy: 0.9992 - val_loss: 0.0284 - val_accuracy: 0.9950\n",
      "Epoch 16/40\n",
      "51000/51000 [==============================] - 24s 470us/step - loss: 0.0023 - accuracy: 0.9993 - val_loss: 0.0263 - val_accuracy: 0.9949\n",
      "Epoch 17/40\n",
      "51000/51000 [==============================] - 24s 470us/step - loss: 0.0021 - accuracy: 0.9992 - val_loss: 0.0276 - val_accuracy: 0.9950\n",
      "Epoch 18/40\n",
      "51000/51000 [==============================] - 24s 471us/step - loss: 0.0019 - accuracy: 0.9994 - val_loss: 0.0261 - val_accuracy: 0.9956\n",
      "Epoch 19/40\n",
      "51000/51000 [==============================] - 24s 470us/step - loss: 0.0020 - accuracy: 0.9993 - val_loss: 0.0308 - val_accuracy: 0.9950\n",
      "Epoch 20/40\n",
      "51000/51000 [==============================] - 24s 471us/step - loss: 0.0022 - accuracy: 0.9993 - val_loss: 0.0259 - val_accuracy: 0.9944\n",
      "Epoch 21/40\n",
      "51000/51000 [==============================] - 24s 470us/step - loss: 0.0017 - accuracy: 0.9994 - val_loss: 0.0274 - val_accuracy: 0.9952\n",
      "Epoch 22/40\n",
      "51000/51000 [==============================] - 24s 469us/step - loss: 0.0013 - accuracy: 0.9995 - val_loss: 0.0266 - val_accuracy: 0.9957\n",
      "Epoch 23/40\n",
      "51000/51000 [==============================] - 24s 469us/step - loss: 8.2108e-04 - accuracy: 0.9997 - val_loss: 0.0345 - val_accuracy: 0.9948\n",
      "Epoch 24/40\n",
      "51000/51000 [==============================] - 24s 469us/step - loss: 0.0012 - accuracy: 0.9997 - val_loss: 0.0312 - val_accuracy: 0.9952\n",
      "Epoch 25/40\n",
      "51000/51000 [==============================] - 24s 469us/step - loss: 8.9639e-04 - accuracy: 0.9997 - val_loss: 0.0356 - val_accuracy: 0.9949\n",
      "Epoch 26/40\n",
      "51000/51000 [==============================] - 24s 469us/step - loss: 0.0016 - accuracy: 0.9993 - val_loss: 0.0292 - val_accuracy: 0.9952\n",
      "Epoch 27/40\n",
      "51000/51000 [==============================] - 24s 470us/step - loss: 7.6900e-04 - accuracy: 0.9997 - val_loss: 0.0336 - val_accuracy: 0.9956\n",
      "Epoch 28/40\n",
      "51000/51000 [==============================] - 24s 471us/step - loss: 7.2975e-04 - accuracy: 0.9997 - val_loss: 0.0338 - val_accuracy: 0.9951\n",
      "Epoch 29/40\n",
      "51000/51000 [==============================] - 24s 471us/step - loss: 8.4338e-04 - accuracy: 0.9997 - val_loss: 0.0301 - val_accuracy: 0.9958\n",
      "Epoch 30/40\n",
      "51000/51000 [==============================] - 24s 471us/step - loss: 4.5225e-04 - accuracy: 0.9999 - val_loss: 0.0329 - val_accuracy: 0.9954\n",
      "Epoch 31/40\n",
      "51000/51000 [==============================] - 24s 470us/step - loss: 9.9333e-04 - accuracy: 0.9996 - val_loss: 0.0332 - val_accuracy: 0.9944\n",
      "Epoch 32/40\n",
      "51000/51000 [==============================] - 24s 470us/step - loss: 7.8889e-04 - accuracy: 0.9997 - val_loss: 0.0343 - val_accuracy: 0.9959\n",
      "Epoch 33/40\n",
      "51000/51000 [==============================] - 24s 471us/step - loss: 8.1175e-04 - accuracy: 0.9997 - val_loss: 0.0311 - val_accuracy: 0.9957\n",
      "Epoch 34/40\n",
      "51000/51000 [==============================] - 24s 471us/step - loss: 8.0723e-04 - accuracy: 0.9997 - val_loss: 0.0316 - val_accuracy: 0.9958\n",
      "Epoch 35/40\n",
      "51000/51000 [==============================] - 24s 471us/step - loss: 5.9840e-04 - accuracy: 0.9997 - val_loss: 0.0310 - val_accuracy: 0.9953\n",
      "Epoch 36/40\n",
      "51000/51000 [==============================] - 24s 471us/step - loss: 5.3066e-04 - accuracy: 0.9999 - val_loss: 0.0325 - val_accuracy: 0.9957\n",
      "Epoch 37/40\n",
      "51000/51000 [==============================] - 24s 471us/step - loss: 4.3142e-04 - accuracy: 0.9998 - val_loss: 0.0348 - val_accuracy: 0.9958\n",
      "Epoch 38/40\n",
      "51000/51000 [==============================] - 24s 471us/step - loss: 7.3272e-04 - accuracy: 0.9998 - val_loss: 0.0361 - val_accuracy: 0.9948\n",
      "Epoch 39/40\n",
      "51000/51000 [==============================] - 24s 472us/step - loss: 9.0697e-04 - accuracy: 0.9997 - val_loss: 0.0305 - val_accuracy: 0.9957\n",
      "Epoch 40/40\n",
      "51000/51000 [==============================] - 24s 472us/step - loss: 7.7049e-04 - accuracy: 0.9998 - val_loss: 0.0344 - val_accuracy: 0.9949\n"
     ]
    }
   ],
   "source": [
    "history = model.fit(x_train, y_train,\n",
    "          batch_size=batch_size,\n",
    "          epochs=epochs,\n",
    "          verbose=1,\n",
    "          validation_data=(x_valid, y_valid))"
   ]
  },
  {
   "cell_type": "code",
   "execution_count": 14,
   "metadata": {},
   "outputs": [],
   "source": [
    "answer = model.predict(x_test)"
   ]
  },
  {
   "cell_type": "code",
   "execution_count": 15,
   "metadata": {},
   "outputs": [],
   "source": [
    "answer = answer.astype(int)"
   ]
  },
  {
   "cell_type": "code",
   "execution_count": 16,
   "metadata": {},
   "outputs": [
    {
     "data": {
      "text/plain": [
       "array([3, 0, 2, ..., 1, 6, 3])"
      ]
     },
     "execution_count": 16,
     "metadata": {},
     "output_type": "execute_result"
    }
   ],
   "source": [
    "y = np.argmax(answer, axis=-1)\n",
    "y"
   ]
  },
  {
   "cell_type": "code",
   "execution_count": 17,
   "metadata": {},
   "outputs": [
    {
     "data": {
      "text/html": [
       "<div>\n",
       "<style scoped>\n",
       "    .dataframe tbody tr th:only-of-type {\n",
       "        vertical-align: middle;\n",
       "    }\n",
       "\n",
       "    .dataframe tbody tr th {\n",
       "        vertical-align: top;\n",
       "    }\n",
       "\n",
       "    .dataframe thead th {\n",
       "        text-align: right;\n",
       "    }\n",
       "</style>\n",
       "<table border=\"1\" class=\"dataframe\">\n",
       "  <thead>\n",
       "    <tr style=\"text-align: right;\">\n",
       "      <th></th>\n",
       "      <th>id</th>\n",
       "      <th>label</th>\n",
       "    </tr>\n",
       "  </thead>\n",
       "  <tbody>\n",
       "    <tr>\n",
       "      <th>0</th>\n",
       "      <td>0</td>\n",
       "      <td>3</td>\n",
       "    </tr>\n",
       "    <tr>\n",
       "      <th>1</th>\n",
       "      <td>1</td>\n",
       "      <td>0</td>\n",
       "    </tr>\n",
       "    <tr>\n",
       "      <th>2</th>\n",
       "      <td>2</td>\n",
       "      <td>2</td>\n",
       "    </tr>\n",
       "    <tr>\n",
       "      <th>3</th>\n",
       "      <td>3</td>\n",
       "      <td>6</td>\n",
       "    </tr>\n",
       "    <tr>\n",
       "      <th>4</th>\n",
       "      <td>4</td>\n",
       "      <td>7</td>\n",
       "    </tr>\n",
       "    <tr>\n",
       "      <th>...</th>\n",
       "      <td>...</td>\n",
       "      <td>...</td>\n",
       "    </tr>\n",
       "    <tr>\n",
       "      <th>4995</th>\n",
       "      <td>4995</td>\n",
       "      <td>1</td>\n",
       "    </tr>\n",
       "    <tr>\n",
       "      <th>4996</th>\n",
       "      <td>4996</td>\n",
       "      <td>0</td>\n",
       "    </tr>\n",
       "    <tr>\n",
       "      <th>4997</th>\n",
       "      <td>4997</td>\n",
       "      <td>1</td>\n",
       "    </tr>\n",
       "    <tr>\n",
       "      <th>4998</th>\n",
       "      <td>4998</td>\n",
       "      <td>6</td>\n",
       "    </tr>\n",
       "    <tr>\n",
       "      <th>4999</th>\n",
       "      <td>4999</td>\n",
       "      <td>3</td>\n",
       "    </tr>\n",
       "  </tbody>\n",
       "</table>\n",
       "<p>5000 rows × 2 columns</p>\n",
       "</div>"
      ],
      "text/plain": [
       "        id  label\n",
       "0        0      3\n",
       "1        1      0\n",
       "2        2      2\n",
       "3        3      6\n",
       "4        4      7\n",
       "...    ...    ...\n",
       "4995  4995      1\n",
       "4996  4996      0\n",
       "4997  4997      1\n",
       "4998  4998      6\n",
       "4999  4999      3\n",
       "\n",
       "[5000 rows x 2 columns]"
      ]
     },
     "execution_count": 17,
     "metadata": {},
     "output_type": "execute_result"
    }
   ],
   "source": [
    "frames_aswer = pd.DataFrame({\"id\": pd.DataFrame(y).index.values,\n",
    "                             \"label\": y\n",
    "                            })\n",
    "pd.set_option('display.max_rows', 500)\n",
    "frames_aswer"
   ]
  },
  {
   "cell_type": "code",
   "execution_count": 18,
   "metadata": {},
   "outputs": [],
   "source": [
    "frames_aswer.to_csv('submission.csv', index=False)"
   ]
  }
 ],
 "metadata": {
  "kernelspec": {
   "display_name": "Python 3",
   "language": "python",
   "name": "python3"
  },
  "language_info": {
   "codemirror_mode": {
    "name": "ipython",
    "version": 3
   },
   "file_extension": ".py",
   "mimetype": "text/x-python",
   "name": "python",
   "nbconvert_exporter": "python",
   "pygments_lexer": "ipython3",
   "version": "3.7.3"
  }
 },
 "nbformat": 4,
 "nbformat_minor": 1
}
